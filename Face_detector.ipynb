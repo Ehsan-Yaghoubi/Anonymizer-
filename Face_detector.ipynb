{
  "nbformat": 4,
  "nbformat_minor": 0,
  "metadata": {
    "colab": {
      "name": "Face_detector.ipynb",
      "provenance": [],
      "toc_visible": true
    },
    "kernelspec": {
      "name": "python3",
      "display_name": "Python 3"
    }
  },
  "cells": [
    {
      "cell_type": "code",
      "metadata": {
        "id": "rfNkYprtX_7n",
        "colab_type": "code",
        "colab": {}
      },
      "source": [
        ""
      ],
      "execution_count": 0,
      "outputs": []
    },
    {
      "cell_type": "markdown",
      "metadata": {
        "id": "GWaaoJiWYEU_",
        "colab_type": "text"
      },
      "source": [
        "In this project, we would like to recive an input frame and yeild an ananimize frame (the faces in the frame should be distorted). Also, another network should be trained (preferably jointly) to recover the original frame such that the faces are visible.\n",
        "![alt text](https://github.com/Ehsan-Yaghoubi/Anonymizer-/blob/master/Text-%2318.png)\n"
      ]
    }
  ]
}